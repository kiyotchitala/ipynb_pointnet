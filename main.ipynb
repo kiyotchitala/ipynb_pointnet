{
 "cells": [
  {
   "cell_type": "code",
   "execution_count": null,
   "metadata": {},
   "outputs": [],
   "source": [
    "import torch\n",
    "batch_size = 64\n",
    "num_points = 64\n",
    "\n",
    "half_batch_size = int(batch_size/2)\n",
    "#normal_sampled = torch.randn(half_batch_size, num_points, 3)\n",
    "#uniform_sampled = torch.rand(half_batch_size, num_points, 3)\n",
    "normal_sampled = []\n",
    "for i in range(half_batch_size):\n",
    "    a = []\n",
    "    for ii in range(num_points):\n",
    "        b = []\n",
    "        for iii in range(3):\n",
    "            b.append(iii)\n",
    "        a.append(b)\n",
    "normal_sampled.append(a)    \n",
    "uniform_sampled = []\n",
    "for i in range(half_batch_size):\n",
    "    a = []\n",
    "    for ii in range(num_points):\n",
    "        b = []\n",
    "        for iii in range(3):\n",
    "            b.append(iii)\n",
    "        a.append(b)\n",
    "uniform_sampled.append(a)\n",
    "\n",
    "input_data = torch.cat((torch.Tensor(normal_sampled),torch.Tensor(uniform_sampled)),dim=0)\n",
    "print(input_data)"
   ]
  },
  {
   "cell_type": "markdown",
   "metadata": {},
   "source": [
    "# Tensorについての文献\n",
    "[torch.Tensor()](https://www.hellocybernetics.tech/entry/2017/10/19/070522)\n"
   ]
  },
  {
   "cell_type": "code",
   "execution_count": 74,
   "metadata": {},
   "outputs": [],
   "source": [
    "import torch\n",
    "import glob\n",
    "\n",
    "def data_sampler(path_1, path_2):\n",
    "    true_files = glob.glob(path_1)\n",
    "    false_files = glob.glob(path_2)\n",
    "    \n",
    "    len_true = len(true_files)\n",
    "    len_false = len(false_files)\n",
    "    if len_true == 0 or len_false == 0:\n",
    "        print('No data available')\n",
    "        return 0,0\n",
    "\n",
    "    true_list = []\n",
    "    false_list = []\n",
    "\n",
    "    for true_file in true_files:\n",
    "        s_num = []\n",
    "        with open(true_file,'r') as f:\n",
    "            data = f.read().split('\\n')\n",
    "            for i in range(len(data)-1):\n",
    "                s = data[i].split(' ')\n",
    "                s_num.append([float(s[0]),float(s[1]),float(s[2])])\n",
    "        true_list.append([s_num])\n",
    "\n",
    "    for false_file in false_files:\n",
    "        s_num = []\n",
    "        with open(false_file,'r') as f:\n",
    "            data = f.read().split('\\n')\n",
    "            for i in range(len(data)-1):\n",
    "                s = data[i].split(' ')\n",
    "                s_num.append([float(s[0]),float(s[1]),float(s[2])])\n",
    "        false_list.append([s_num])\n",
    "    len_true = len(true_list)\n",
    "    len_false = len(false_list)\n",
    "\n",
    "    true_labels = torch.ones(len_true)\n",
    "    false_labels = torch.zeros(len_false)\n",
    "    \n",
    "    input_data = torch.cat((torch.Tensor(true_list),torch.Tensor(false_list)))\n",
    "    labels = torch.cat((torch.Tensor(true_labels), torch.Tensor(false_labels)))\n",
    "    return input_data.view(-1, 3), labels.view(-1, 1)\n",
    "    #return true_list,false_list\n",
    "\n",
    "a,b = data_sampler('./txt/*','./txt/*')"
   ]
  },
  {
   "cell_type": "code",
   "execution_count": 75,
   "metadata": {},
   "outputs": [
    {
     "data": {
      "text/plain": [
       "tensor([[206.9760,  24.9552,  95.0000],\n",
       "        [210.7834,  20.4702,  95.0000],\n",
       "        [204.9100,  15.2274,  95.0000],\n",
       "        ...,\n",
       "        [199.6535,  -8.4423,  40.0000],\n",
       "        [207.6314,  18.7361,  95.0000],\n",
       "        [207.6314,  18.7361,  95.0000]])"
      ]
     },
     "execution_count": 75,
     "metadata": {},
     "output_type": "execute_result"
    }
   ],
   "source": [
    "a"
   ]
  },
  {
   "cell_type": "code",
   "execution_count": 91,
   "metadata": {},
   "outputs": [],
   "source": [
    "path_1 = r'C:\\Users\\wtana\\Desktop\\LiDAR_cm\\syoumen\\takuya\\200cm\\txt'\n",
    "path_2 = r'C:\\Users\\wtana\\Desktop\\LiDAR_cm\\syoumen\\takuya\\200cm\\txt'\n",
    "\n",
    "true_files = glob.glob(path_1+'\\*')\n",
    "    #path_2は不正解データ（木）\n",
    "false_files = glob.glob(path_2+'\\*')\n",
    "    \n",
    "    #あとでファイルの数は使うから変数にしておく\n",
    "len_true = len(true_files)\n",
    "len_false = len(false_files)\n",
    "if len_true == 0 or len_false == 0:\n",
    "    print('No data available')\n",
    "\n",
    "true_list = []\n",
    "false_list = []\n",
    "\n",
    "for true_file in true_files:\n",
    "    s_num = []\n",
    "    with open(true_file,'r') as f:\n",
    "        data = f.read().split('\\n')\n",
    "        for i in range(len(data)-1):\n",
    "            s = data[i].split(' ')\n",
    "            true_list.append(float(s[0]))\n",
    "            true_list.append(float(s[1]))\n",
    "            true_list.append(float(s[2]))\n",
    "\n",
    "for false_file in false_files:\n",
    "    s_num = []\n",
    "    with open(false_file,'r') as f:\n",
    "        data = f.read().split('\\n')\n",
    "        for i in range(len(data)-1):\n",
    "            s = data[i].split(' ')\n",
    "            true_list.append(float(s[0]))\n",
    "            true_list.append(float(s[1]))\n",
    "            true_list.append(float(s[2]))\n",
    "\n",
    "s = torch.split(torch.Tensor(true_list),3)"
   ]
  },
  {
   "cell_type": "code",
   "execution_count": 34,
   "metadata": {},
   "outputs": [
    {
     "name": "stdout",
     "output_type": "stream",
     "text": [
      "18\n"
     ]
    }
   ],
   "source": [
    "import glob\n",
    "file_path = r'C:\\Users\\wtana\\Desktop\\LiDAR_cm\\syoumen\\takuya\\200cm\\txt\\*'\n",
    "files = glob.glob(file_path)\n",
    "num = []\n",
    "for idx,file in enumerate(files):\n",
    "    with open(file,'r') as f:\n",
    "        data = f.read().split('\\n')\n",
    "        num.append(len(data))\n",
    "print(max(num))"
   ]
  },
  {
   "cell_type": "code",
   "execution_count": 1,
   "metadata": {},
   "outputs": [],
   "source": [
    "import glob\n",
    "file_path = './normalize_txt/tree/*'\n",
    "files = glob.glob(file_path)\n",
    "for idx,file in enumerate(files):\n",
    "    f = open(file,'r')\n",
    "    data = f.read().split('\\n')\n",
    "    f.close()\n",
    "    for _ in range(33 - len(data)):\n",
    "        f = open(file,'a')\n",
    "        f.write(str(data[1])+'\\n')\n",
    "        f.close()\n",
    "    "
   ]
  },
  {
   "cell_type": "code",
   "execution_count": null,
   "metadata": {},
   "outputs": [],
   "source": [
    "import glob\n",
    "file_path = r'C:\\Users\\wtana\\Desktop\\LiDAR_cm\\syoumen\\kaneko\\200cm\\txt\\*'\n",
    "files = glob.glob(file_path)\n",
    "num = []\n",
    "for idx,file in enumerate(files):\n",
    "    with open(file,'r') as f:\n",
    "        data = f.read().split('\\n')\n",
    "        if len(data) != 32:\n",
    "            print(str(file)+' ',end=str(len(data))+'\\n')"
   ]
  },
  {
   "cell_type": "code",
   "execution_count": 1,
   "metadata": {},
   "outputs": [],
   "source": [
    "import open3d as o3d\n",
    "import numpy as np\n",
    "\n",
    "line = np.linspace(0, 50, 51, dtype=np.float64)\n",
    "\n",
    "points = []\n",
    "colors = []\n",
    "for x in line:\n",
    "    for y in line:\n",
    "        for z in line:\n",
    "            points.append([x,y,z])\n",
    "            colors.append([x/50, y/50, z/50])\n",
    "\n",
    "pcd = o3d.geometry.PointCloud()\n",
    "pcd.points = o3d.utility.Vector3dVector(points)\n",
    "pcd.colors = o3d.utility.Vector3dVector(colors)\n",
    "\n",
    "o3d.visualization.draw_geometries([pcd])"
   ]
  },
  {
   "cell_type": "code",
   "execution_count": 9,
   "metadata": {},
   "outputs": [
    {
     "data": {
      "text/plain": [
       "True"
      ]
     },
     "execution_count": 9,
     "metadata": {},
     "output_type": "execute_result"
    }
   ],
   "source": [
    "import numpy as np\n",
    "import open3d\n",
    "#168Byte\n",
    "xxx = [[0,0,0]]\n",
    "xyz = np.array(xxx)\n",
    "pcd = o3d.geometry.PointCloud()\n",
    "pcd.points = o3d.utility.Vector3dVector(xyz)\n",
    "    \n",
    "file_path = './'\n",
    "o3d.io.write_point_cloud('sample_color.ply',pcd)"
   ]
  },
  {
   "cell_type": "code",
   "execution_count": null,
   "metadata": {},
   "outputs": [],
   "source": []
  }
 ],
 "metadata": {
  "kernelspec": {
   "display_name": "Python 3.8.12 ('takuya')",
   "language": "python",
   "name": "python3"
  },
  "language_info": {
   "codemirror_mode": {
    "name": "ipython",
    "version": 3
   },
   "file_extension": ".py",
   "mimetype": "text/x-python",
   "name": "python",
   "nbconvert_exporter": "python",
   "pygments_lexer": "ipython3",
   "version": "3.8.13"
  },
  "orig_nbformat": 4,
  "vscode": {
   "interpreter": {
    "hash": "9462753b17c62bb3f4671fb2b3c7a16b22ecb791dac6128873dd2308b51cfa83"
   }
  }
 },
 "nbformat": 4,
 "nbformat_minor": 2
}

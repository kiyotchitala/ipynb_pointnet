{
 "cells": [
  {
   "cell_type": "markdown",
   "metadata": {},
   "source": [
    "\n",
    "# coding: utf-8\n",
    "import open3d as o3d\n",
    "import numpy as np\n",
    "\n",
    "world = [[0.0, 0.0, 0.0], [0.0, 0.05, 0.0], [0.0, 0.1, 0.0], [0.05, 0.0, 0.0], [0.05, 0.05, 0.0], [0.05, 0.1, 0.0], [0.1, 0.0, 0.0], [0.1, 0.05, 0.0], [0.1, 0.1, 0.0], [0.0, 0.0, 0.05], [0.0, 0.05, 0.05], [0.0, 0.1, 0.05], [0.05, 0.0, 0.05], [0.05, 0.05, 0.05], [0.05, 0.1, 0.05], [0.1, 0.0, 0.05], [0.1, 0.05, 0.05], [0.1, 0.1, 0.05]]\n",
    "\n",
    "xyz = np.array(world)\n",
    "pcd = o3d.geometry.PointCloud()\n",
    "pcd.points = o3d.utility.Vector3dVector(xyz)\n",
    "o3d.io.write_point_cloud(\"test.ply\", pcd)\n",
    "#https://jp.mathworks.com/help/vision/ref/pcread.html\n",
    "#https://jp.mathworks.com/matlabcentral/fileexchange/83173-classify-point-clouds-using-pointnet?s_tid=FX_rc1_behav"
   ]
  },
  {
   "cell_type": "code",
   "execution_count": 5,
   "metadata": {},
   "outputs": [
    {
     "name": "stdout",
     "output_type": "stream",
     "text": [
      "0\n",
      "[]\n"
     ]
    }
   ],
   "source": [
    "import open3d as o3d\n",
    "import numpy as np\n",
    "import glob\n",
    "human = \"takuya\"\n",
    "mozi = 300\n",
    "file = glob.glob('./yoko/'+human+'/'+str(mozi) + 'cm/txt/*.txt')\n",
    "print(len(file))\n",
    "xxx= []\n",
    "for idx in range(1,len(file)):\n",
    "    f = open(file[idx],'r')\n",
    "    data = f.read()\n",
    "    f.close()\n",
    "    datas_enter = data.split('\\n')\n",
    "    x = []\n",
    "    xxx = []\n",
    "    for data_enter in datas_enter:\n",
    "        if not data_enter == '':\n",
    "            data_enter_split = data_enter.split(' ')\n",
    "            x.append(data_enter_split[0])\n",
    "            x.append(data_enter_split[1])\n",
    "            x.append(data_enter_split[2])\n",
    "            xxx.append(x)\n",
    "            x = []\n",
    "        break\n",
    "print(xxx)\n",
    "    #xyz = np.array(xxx)\n",
    "    #pcd = o3d.geometry.PointCloud()\n",
    "    #pcd.points = o3d.utility.Vector3dVector(xyz)\n",
    "    \n",
    "    #file_path = './yoko/'+human + '/'+str(mozi) + 'cm/takuya_human/'\n",
    "    #o3d.io.write_point_cloud(file_path + 'train_'+str(idx)+'.ply',pcd)\n"
   ]
  },
  {
   "cell_type": "code",
   "execution_count": 4,
   "metadata": {},
   "outputs": [
    {
     "data": {
      "text/plain": [
       "['.\\\\box.txt', '.\\\\human_4m.txt']"
      ]
     },
     "execution_count": 4,
     "metadata": {},
     "output_type": "execute_result"
    }
   ],
   "source": [
    "import glob\n",
    "files = glob.glob('./*.txt')\n",
    "files"
   ]
  },
  {
   "cell_type": "code",
   "execution_count": 1,
   "metadata": {},
   "outputs": [
    {
     "data": {
      "image/png": "[encoded data removed]",
      "text/plain": [
       "<Figure size 432x288 with 1 Axes>"
      ]
     },
     "metadata": {
      "needs_background": "light"
     },
     "output_type": "display_data"
    }
   ],
   "source": [
    "import math\n",
    "import glob as gb\n",
    "import matplotlib.pyplot as plt\n",
    "\n",
    "def split_list(l, n):\n",
    "    for idx in range(0, len(l)-1, n):\n",
    "        yield l[idx:idx + n]\n",
    "\n",
    "\n",
    "#path = './syoumen/takuya/150cm/'\n",
    "#files = gb.glob(path + 'leg.txt')\n",
    "files = gb.glob('./syoumen/takuya/150cm/body.txt')\n",
    "f = open(files[0],'r')\n",
    "data_enter = f.read().split('\\n')\n",
    "f.close()\n",
    "delete_kakko = data_enter[9].replace('(','').replace(')',',').replace('[','').replace(']','')\n",
    "split_kanma = delete_kakko.split(',')\n",
    "angle = []\n",
    "distance = []\n",
    "result = list(split_list(split_kanma,3))\n",
    "for i in range(len(result)):\n",
    "    angle.append(float(result[i][1]))\n",
    "    distance.append(float(result[i][2]))\n",
    "\n",
    "an90 = [] #x\n",
    "me90 = [] #y\n",
    "an180 = []\n",
    "me180 = []\n",
    "an270 = []\n",
    "me270 = []\n",
    "an0 = []\n",
    "me0 = []\n",
    "for i in range(len(angle)):\n",
    "    x = distance[i] * math.cos(math.radians(angle[i])) \n",
    "    y = math.sqrt(distance[i] ** 2 - x ** 2) \n",
    "    x = x / 10\n",
    "    y = y / 10\n",
    "    if(0 <= float(angle[i]) and float(angle[i]) <= 90):\n",
    "        an90.append(x)\n",
    "        me90.append(-y)\n",
    "    elif(90 < float(angle[i]) and float(angle[i]) <= 180):\n",
    "        an180.append(x)\n",
    "        me180.append(-y)\n",
    "    elif(180 < float(angle[i]) and float(angle[i]) <= 270):\n",
    "        an270.append(x)\n",
    "        me270.append(y)\n",
    "    else:\n",
    "        an0.append(x)\n",
    "        me0.append(y)\n",
    "fig = plt.figure()\n",
    "plt.plot(an0,me0,linestyle='',marker=\".\",c='black')\n",
    "plt.plot(an90,me90,linestyle='',marker=\".\",c='black')\n",
    "plt.plot(an180,me180,linestyle='',marker=\".\",c='pink')\n",
    "plt.plot(an270,me270,linestyle='',marker=\".\",c='red')\n",
    "xmi = 0\n",
    "xma = 200\n",
    "ymi = -50\n",
    "yma = 50\n",
    "plt.plot(0,0,linestyle='',marker='*')\n",
    "plt.xlim(xmi,xma)\n",
    "plt.ylim(ymi,yma)\n",
    "plt.grid('TRUE')\n",
    "#fig.savefig('C:/Users/wtana/Desktop/大学院関係/学会/FIT/plot.png')"
   ]
  },
  {
   "cell_type": "code",
   "execution_count": 23,
   "metadata": {},
   "outputs": [],
   "source": [
    "hight = 95\n",
    "for idx in range(1,len(data_enter)-1):\n",
    "    delete_kakko = data_enter[idx].replace('(','').replace(')',',').replace('[','').replace(']','')\n",
    "    split_kanma = delete_kakko.split(',')\n",
    "    angle = []\n",
    "    distance = []\n",
    "    result = list(split_list(split_kanma,3))\n",
    "    for i in range(len(result)):\n",
    "        angle.append(float(result[i][1]))\n",
    "        distance.append(float(result[i][2]))\n",
    "    an90 = [] #x\n",
    "    me90 = [] #y\n",
    "    an180 = []\n",
    "    me180 = []\n",
    "    an270 = []\n",
    "    me270 = []\n",
    "    an0 = []\n",
    "    me0 = []\n",
    "    for i in range(len(angle)):\n",
    "        x = distance[i] * math.cos(math.radians(angle[i])) \n",
    "        y = math.sqrt(distance[i] ** 2 - x ** 2) \n",
    "        x = x / 10\n",
    "        y = y / 10\n",
    "        if(0 <= float(angle[i]) and float(angle[i]) <= 90):\n",
    "            an90.append(x)\n",
    "            me90.append(-y)\n",
    "        elif(90 < float(angle[i]) and float(angle[i]) <= 180):\n",
    "            an180.append(x)\n",
    "            me180.append(-y)\n",
    "        elif(180 < float(angle[i]) and float(angle[i]) <= 270):\n",
    "            an270.append(x)\n",
    "            me270.append(y)\n",
    "        else:\n",
    "            an0.append(x)\n",
    "            me0.append(y)\n",
    "        \n",
    "    #ここを変えて\n",
    "    #path = './kaneko/150cm/'\n",
    "    file = open(path+'txt/'+str(idx)+'.txt','a')\n",
    "    for i in range(len(an0)):\n",
    "        if xmi < an0[i] and an0[i] < xma and ymi < me0[i] and me0[i] < yma:\n",
    "            file.write('{0} {1} {2}\\n'.format(an0[i],me0[i],hight))\n",
    "    for i in range(len(an90)):\n",
    "        if xmi < an90[i] and an90[i] < xma and ymi < me90[i] and me90[i] < yma:\n",
    "            file.write('{0} {1} {2}\\n'.format(an90[i],me90[i],hight))\n",
    "    for i in range(len(an180)):\n",
    "        if xmi < an180[i] and an180[i] < xma and ymi < me180[i] and me180[i] < yma:\n",
    "            file.write('{0} {1} {2}\\n'.format(an180[i],me180[i],hight))\n",
    "    for i in range(len(an270)):\n",
    "        if xmi < an270[i] and an270[i] < xma and ymi < me270[i] and me270[i] < yma:\n",
    "            file.write('{0} {1} {2}\\n'.format(an270[i],me270[i],hight))       \n",
    "    file.close()\n",
    "\n"
   ]
  },
  {
   "cell_type": "code",
   "execution_count": 29,
   "metadata": {},
   "outputs": [],
   "source": [
    "#########\n",
    "#ここから下は自由スペース\n",
    "#########"
   ]
  },
  {
   "cell_type": "code",
   "execution_count": 17,
   "metadata": {},
   "outputs": [
    {
     "name": "stdout",
     "output_type": "stream",
     "text": [
      "['./300cm/txt\\\\1.txt', './300cm/txt\\\\10.txt']\n"
     ]
    },
    {
     "data": {
      "text/plain": [
       "(0.0, 350.0)"
      ]
     },
     "execution_count": 17,
     "metadata": {},
     "output_type": "execute_result"
    },
    {
     "data": {
      "image/png": "[encoded data removed]",
      "text/plain": [
       "<Figure size 432x288 with 1 Axes>"
      ]
     },
     "metadata": {
      "needs_background": "light"
     },
     "output_type": "display_data"
    }
   ],
   "source": [
    "import glob\n",
    "import matplotlib.pyplot as plt\n",
    "\n",
    "file = glob.glob('./300cm/txt/*.txt')\n",
    "print(file[:2])\n",
    "f = open(file[1],'r')\n",
    "data_ore = f.read().split('\\n')\n",
    "f.close()\n",
    "for i in data_ore:\n",
    "    if not i == '':\n",
    "        sp = i.split(' ')\n",
    "        plt.plot(float(sp[0]),float(sp[1]),linestyle='',marker='.')\n",
    "plt.grid('TRUE')\n",
    "plt.xlim(0,350)\n",
    "#plt.ylim(-100,100)\n"
   ]
  },
  {
   "cell_type": "code",
   "execution_count": 5,
   "metadata": {},
   "outputs": [
    {
     "data": {
      "text/plain": [
       "True"
      ]
     },
     "execution_count": 5,
     "metadata": {},
     "output_type": "execute_result"
    }
   ],
   "source": [
    "import open3d as o3d\n",
    "import numpy as np\n",
    "#world = [[0.0, 0.0, 0.0], [0.0, 0.05, 0.0], [0.0, 0.1, 0.0], [0.05, 0.0, 0.0], [0.05, 0.05, 0.0], [0.05, 0.1, 0.0], [0.1, 0.0, 0.0], [0.1, 0.05, 0.0], [0.1, 0.1, 0.0], [0.0, 0.0, 0.05], [0.0, 0.05, 0.05], [0.0, 0.1, 0.05], [0.05, 0.0, 0.05], [0.05, 0.05, 0.05], [0.05, 0.1, 0.05], [0.1, 0.0, 0.05], [0.1, 0.05, 0.05], [0.1, 0.1, 0.05]]\n",
    "world = [[0.0, 0.0, 0.0],[0.5,0.5,0.5],[1.0,1.0,1.0]]\n",
    "xyz = np.array(world)\n",
    "pcd = o3d.geometry.PointCloud()\n",
    "pcd.points = o3d.utility.Vector3dVector(xyz)\n",
    "o3d.io.write_point_cloud(\"./test.ply\", pcd)"
   ]
  },
  {
   "cell_type": "code",
   "execution_count": null,
   "metadata": {},
   "outputs": [],
   "source": [
    "world = [[0.0, 0.0, 0.0], [0.0, 0.05, 0.0], [0.0, 0.1, 0.0], [0.05, 0.0, 0.0], [0.05, 0.05, 0.0], [0.05, 0.1, 0.0], [0.1, 0.0, 0.0], [0.1, 0.05, 0.0], [0.1, 0.1, 0.0], [0.0, 0.0, 0.05], [0.0, 0.05, 0.05], [0.0, 0.1, 0.05], [0.05, 0.0, 0.05], [0.05, 0.05, 0.05], [0.05, 0.1, 0.05], [0.1, 0.0, 0.05], [0.1, 0.05, 0.05], [0.1, 0.1, 0.05]]\n",
    "\n",
    "len(world)"
   ]
  },
  {
   "cell_type": "code",
   "execution_count": 14,
   "metadata": {},
   "outputs": [],
   "source": []
  },
  {
   "cell_type": "code",
   "execution_count": null,
   "metadata": {},
   "outputs": [],
   "source": []
  },
  {
   "cell_type": "code",
   "execution_count": null,
   "metadata": {},
   "outputs": [],
   "source": []
  }
 ],
 "metadata": {
  "interpreter": {
   "hash": "acbd0e66dec935704100b48c8f7da3ee00c3005c5519c82b53c6646e34276c02"
  },
  "kernelspec": {
   "display_name": "Python 3.7.9 64-bit (windows store)",
   "language": "python",
   "name": "python3"
  },
  "language_info": {
   "codemirror_mode": {
    "name": "ipython",
    "version": 3
   },
   "file_extension": ".py",
   "mimetype": "text/x-python",
   "name": "python",
   "nbconvert_exporter": "python",
   "pygments_lexer": "ipython3",
   "version": "3.7.9"
  },
  "orig_nbformat": 4
 },
 "nbformat": 4,
 "nbformat_minor": 2
}

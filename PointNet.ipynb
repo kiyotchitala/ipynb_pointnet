{
 "cells": [
  {
   "cell_type": "code",
   "execution_count": 10,
   "metadata": {},
   "outputs": [
    {
     "name": "stdout",
     "output_type": "stream",
     "text": [
      "0.90920090675354\n"
     ]
    }
   ],
   "source": [
    "import time \n",
    "from self_pack import self_made\n",
    "from self_pack import self_pointnet\n",
    "import torch\n",
    "s = time.time()\n",
    "pointnet = main_('./normalize_txt/wall/*','./normalize_txt/test_takuya/*',1)\n",
    "#torch.save(pointnet.state_dict(), './human_wall.pth')\n",
    "#takuya/* と tree/*で再度モデルの作成→保存のやり直し\n",
    "f = time.time()\n",
    "print(f-s)\n"
   ]
  },
  {
   "cell_type": "code",
   "execution_count": 38,
   "metadata": {},
   "outputs": [],
   "source": [
    "torch.save(pointnet.state_dict(), './human_wall.pth')"
   ]
  },
  {
   "cell_type": "code",
   "execution_count": 9,
   "metadata": {},
   "outputs": [
    {
     "name": "stdout",
     "output_type": "stream",
     "text": [
      "Accuracy is 0.9375 %\n"
     ]
    }
   ],
   "source": [
    "print('Accuracy is {} %'.format(max(Accu)))"
   ]
  },
  {
   "cell_type": "code",
   "execution_count": 8,
   "metadata": {},
   "outputs": [
    {
     "data": {
      "text/plain": [
       "<matplotlib.legend.Legend at 0x19fc10e6940>"
      ]
     },
     "execution_count": 8,
     "metadata": {},
     "output_type": "execute_result"
    },
    {
     "data": {
      "image/png": "[encoded data removed]",
      "text/plain": [
       "<Figure size 640x480 with 1 Axes>"
      ]
     },
     "metadata": {},
     "output_type": "display_data"
    }
   ],
   "source": [
    "import matplotlib.pyplot as plt\n",
    "x = range(0,len(Accu))\n",
    "\n",
    "plt.figure(facecolor=\"azure\", edgecolor=\"coral\", linewidth=2)\n",
    "plt.plot(x,Accu,marker='.',label='Accuracy')\n",
    "plt.plot(x,loss,marker='.',label='loss')\n",
    "plt.title('test_takuya and kaneko:model takuya and kaneko')\n",
    "plt.grid('TRUE')\n",
    "plt.legend()"
   ]
  },
  {
   "cell_type": "code",
   "execution_count": 45,
   "metadata": {},
   "outputs": [
    {
     "data": {
      "text/plain": [
       "[0.90625, 0.953125]"
      ]
     },
     "execution_count": 45,
     "metadata": {},
     "output_type": "execute_result"
    }
   ],
   "source": [
    "Accu[:2]"
   ]
  },
  {
   "cell_type": "code",
   "execution_count": 34,
   "metadata": {},
   "outputs": [
    {
     "name": "stdout",
     "output_type": "stream",
     "text": [
      "1.0\n"
     ]
    }
   ],
   "source": [
    "sum = 0.0\n",
    "for a in Accu:\n",
    "    sum = sum + a\n",
    "print(sum / len(Accu))"
   ]
  },
  {
   "cell_type": "code",
   "execution_count": 37,
   "metadata": {},
   "outputs": [],
   "source": [
    "a,b = data_sampler('./normalize_txt/takuya/150cm/*','./normalize_txt/tree/*')"
   ]
  },
  {
   "cell_type": "code",
   "execution_count": 26,
   "metadata": {},
   "outputs": [
    {
     "name": "stdout",
     "output_type": "stream",
     "text": [
      "idx:148 a:8 b:8 c:8\n",
      "idx:17 a:6 b:6 c:6\n",
      "idx:25 a:9 b:9 c:9\n",
      "idx:291 a:2 b:2 c:2\n",
      "idx:7 a:1 b:1 c:1\n",
      "idx:1 a:9 b:9 c:9\n",
      "idx:31 a:2 b:2 c:2\n",
      "idx:193 a:6 b:6 c:6\n",
      "idx:18 a:4 b:4 c:4\n",
      "idx:7 a:8 b:8 c:8\n"
     ]
    }
   ],
   "source": [
    "import random\n",
    "a = random.randint(1,10)\n",
    "b = random.randint(1,10)\n",
    "c = random.randint(1,10)\n",
    "idx = 0\n",
    "for _ in range(10):\n",
    "    idx = 0\n",
    "    a = random.randint(1,9)\n",
    "    b = random.randint(1,9)\n",
    "    c = random.randint(1,9)\n",
    "    while not a == b or not b == c:\n",
    "        a = random.randint(1,9)\n",
    "        b = random.randint(1,9)\n",
    "        c = random.randint(1,9)\n",
    "        idx = idx + 1\n",
    "    print('idx:{} a:{} b:{} c:{}'.format(idx,a,b,c))"
   ]
  },
  {
   "cell_type": "code",
   "execution_count": 21,
   "metadata": {},
   "outputs": [
    {
     "data": {
      "text/plain": [
       "729"
      ]
     },
     "execution_count": 21,
     "metadata": {},
     "output_type": "execute_result"
    }
   ],
   "source": [
    "9 ** 3"
   ]
  },
  {
   "cell_type": "markdown",
   "metadata": {},
   "source": []
  }
 ],
 "metadata": {
  "kernelspec": {
   "display_name": "Python 3.8.13 ('takuya')",
   "language": "python",
   "name": "python3"
  },
  "language_info": {
   "codemirror_mode": {
    "name": "ipython",
    "version": 3
   },
   "file_extension": ".py",
   "mimetype": "text/x-python",
   "name": "python",
   "nbconvert_exporter": "python",
   "pygments_lexer": "ipython3",
   "version": "3.8.13"
  },
  "orig_nbformat": 4,
  "vscode": {
   "interpreter": {
    "hash": "9462753b17c62bb3f4671fb2b3c7a16b22ecb791dac6128873dd2308b51cfa83"
   }
  }
 },
 "nbformat": 4,
 "nbformat_minor": 2
}

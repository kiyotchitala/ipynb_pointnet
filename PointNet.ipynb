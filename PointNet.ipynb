{
 "cells": [
  {
   "cell_type": "code",
   "execution_count": 1,
   "metadata": {},
   "outputs": [],
   "source": [
    "import torch\n",
    "import glob\n",
    "\n",
    "def data_sampler(path_1, path_2):\n",
    "    #path_2 = r'C:\\Users\\wtana\\Desktop\\LiDAR_cm\\syoumen\\kaneko\\200cm\\txt\\*'\n",
    "    true_files = glob.glob(path_1)\n",
    "    false_files = glob.glob(path_2)\n",
    "    \n",
    "    len_true = len(true_files)\n",
    "    len_false = len(false_files)\n",
    "    if len_true == 0 or len_false == 0:\n",
    "        print('No data available')\n",
    "        return 0,0\n",
    "\n",
    "    true_list = []\n",
    "    false_list = []\n",
    "\n",
    "    for idx in range(64):\n",
    "        s_num = []\n",
    "        with open(true_files[idx],'r') as f:\n",
    "            data = f.read().split('\\n')\n",
    "            for i in range(len(data)-1):\n",
    "                s = data[i].split(' ')\n",
    "                s_num.append([float(s[0]),float(s[1]),float(s[2])])\n",
    "        true_list.append([s_num])\n",
    "\n",
    "    for idx in range(64):\n",
    "        s_num = []\n",
    "        with open(false_files[idx],'r') as f:\n",
    "            data = f.read().split('\\n')\n",
    "            for i in range(len(data)-1):\n",
    "                s = data[i].split(' ')\n",
    "                s_num.append([float(s[0]),float(s[1]),float(s[2])])\n",
    "        false_list.append([s_num])\n",
    "    #len_true = len(true_list)\n",
    "    #len_false = len(false_list)\n",
    "\n",
    "    true_labels = torch.ones(32)\n",
    "    false_labels = torch.zeros(32)\n",
    "\n",
    "    input_data = torch.cat((torch.Tensor(true_list),torch.Tensor(false_list)),dim=0)\n",
    "    labels = torch.cat((torch.Tensor(true_labels), torch.Tensor(false_labels)),dim=0)\n",
    "    return input_data.view(-1,3), labels.view(-1, 1)"
   ]
  },
  {
   "cell_type": "code",
   "execution_count": 42,
   "metadata": {},
   "outputs": [],
   "source": [
    "from model import *\n",
    "#from sampler import *\n",
    "#from self_made import *\n",
    "import time\n",
    "\n",
    "loss = []\n",
    "Accu = []\n",
    "\n",
    "batch_size = 64\n",
    "num_points = 64\n",
    "num_labels = 1\n",
    "def main_(path_1,path_2,epoch):\n",
    "    s_time = time.time()\n",
    "    pointnet = PointNet(num_points, num_labels)\n",
    "\n",
    "    #new_param = pointnet.state_dict()\n",
    "    #new_param['main.0.main.6.bias'] = torch.eye(3, 3).view(-1)\n",
    "    #new_param['main.3.main.6.bias'] = torch.eye(64,64).view(-1)\n",
    "    #pointnet.load_state_dict(new_param)\n",
    "    pointnet.load_state_dict(torch.load('./human_wall.pth'))\n",
    "    criterion = nn.BCELoss()\n",
    "    optimizer = optim.Adam(pointnet.parameters(), lr=0.001)\n",
    "\n",
    "    for _ in range(epoch+1):\n",
    "\n",
    "        pointnet.zero_grad()\n",
    "        input_data, labels = data_sampler(path_1,path_2)\n",
    "        #input_data, labels = data_sampler(batch_size, num_points)\n",
    "\n",
    "        output = pointnet(input_data)\n",
    "        output = nn.Sigmoid()(output)\n",
    "\n",
    "        error = criterion(output, labels)\n",
    "        error.backward()\n",
    "\n",
    "        optimizer.step()\n",
    "\n",
    "        with torch.no_grad():\n",
    "            output[output > 0.5] = 1\n",
    "            output[output < 0.5] = 0\n",
    "            accuracy = (output==labels).sum().item()/batch_size\n",
    "\n",
    "        loss.append(float(error.item()))\n",
    "        Accu.append(float(accuracy))\n",
    "        #if iteration % 10 == 0:\n",
    "\n",
    "            #print('Iteration : {}   Loss : {}'.format(iteration, error.item()))\n",
    "            #print('Iteration : {}   Accuracy : {}'.format(iteration, accuracy))\n",
    "    #torch.save(pointnet.state_dict(), './model_2.pth')\n",
    "    return pointnet"
   ]
  },
  {
   "cell_type": "code",
   "execution_count": 43,
   "metadata": {},
   "outputs": [
    {
     "name": "stdout",
     "output_type": "stream",
     "text": [
      "1.0355744361877441\n"
     ]
    }
   ],
   "source": [
    "import time \n",
    "\n",
    "s = time.time()\n",
    "pointnet = main_('./normalize_txt/wall/*','./normalize_txt/test_takuya/*',1)\n",
    "#torch.save(pointnet.state_dict(), './human_wall.pth')\n",
    "#takuya/* と tree/*で再度モデルの作成→保存のやり直し\n",
    "f = time.time()\n",
    "print(f-s)\n"
   ]
  },
  {
   "cell_type": "code",
   "execution_count": 38,
   "metadata": {},
   "outputs": [],
   "source": [
    "torch.save(pointnet.state_dict(), './human_wall.pth')"
   ]
  },
  {
   "cell_type": "code",
   "execution_count": 26,
   "metadata": {},
   "outputs": [
    {
     "name": "stdout",
     "output_type": "stream",
     "text": [
      "Accuracy is 0.4375 %\n"
     ]
    }
   ],
   "source": [
    "print('Accuracy is {} %'.format(Accu[0]))"
   ]
  },
  {
   "cell_type": "code",
   "execution_count": 44,
   "metadata": {},
   "outputs": [
    {
     "data": {
      "text/plain": [
       "<matplotlib.legend.Legend at 0x1645f5def40>"
      ]
     },
     "execution_count": 44,
     "metadata": {},
     "output_type": "execute_result"
    },
    {
     "data": {
      "image/png": "[encoded data removed]",
      "text/plain": [
       "<Figure size 640x480 with 1 Axes>"
      ]
     },
     "metadata": {},
     "output_type": "display_data"
    }
   ],
   "source": [
    "import matplotlib.pyplot as plt\n",
    "x = range(0,len(Accu))\n",
    "\n",
    "plt.figure(facecolor=\"azure\", edgecolor=\"coral\", linewidth=2)\n",
    "plt.plot(x,Accu,marker='.',label='Accuracy')\n",
    "plt.plot(x,loss,marker='.',label='loss')\n",
    "plt.title('test_takuya and kaneko:model takuya and kaneko')\n",
    "plt.grid('TRUE')\n",
    "plt.legend()"
   ]
  },
  {
   "cell_type": "code",
   "execution_count": 45,
   "metadata": {},
   "outputs": [
    {
     "data": {
      "text/plain": [
       "[0.90625, 0.953125]"
      ]
     },
     "execution_count": 45,
     "metadata": {},
     "output_type": "execute_result"
    }
   ],
   "source": [
    "Accu[:2]"
   ]
  },
  {
   "cell_type": "code",
   "execution_count": 34,
   "metadata": {},
   "outputs": [
    {
     "name": "stdout",
     "output_type": "stream",
     "text": [
      "1.0\n"
     ]
    }
   ],
   "source": [
    "sum = 0.0\n",
    "for a in Accu:\n",
    "    sum = sum + a\n",
    "print(sum / len(Accu))"
   ]
  },
  {
   "cell_type": "code",
   "execution_count": 37,
   "metadata": {},
   "outputs": [],
   "source": [
    "a,b = data_sampler('./normalize_txt/takuya/150cm/*','./normalize_txt/tree/*')"
   ]
  },
  {
   "cell_type": "code",
   "execution_count": 26,
   "metadata": {},
   "outputs": [
    {
     "name": "stdout",
     "output_type": "stream",
     "text": [
      "idx:148 a:8 b:8 c:8\n",
      "idx:17 a:6 b:6 c:6\n",
      "idx:25 a:9 b:9 c:9\n",
      "idx:291 a:2 b:2 c:2\n",
      "idx:7 a:1 b:1 c:1\n",
      "idx:1 a:9 b:9 c:9\n",
      "idx:31 a:2 b:2 c:2\n",
      "idx:193 a:6 b:6 c:6\n",
      "idx:18 a:4 b:4 c:4\n",
      "idx:7 a:8 b:8 c:8\n"
     ]
    }
   ],
   "source": [
    "import random\n",
    "a = random.randint(1,10)\n",
    "b = random.randint(1,10)\n",
    "c = random.randint(1,10)\n",
    "idx = 0\n",
    "for _ in range(10):\n",
    "    idx = 0\n",
    "    a = random.randint(1,9)\n",
    "    b = random.randint(1,9)\n",
    "    c = random.randint(1,9)\n",
    "    while not a == b or not b == c:\n",
    "        a = random.randint(1,9)\n",
    "        b = random.randint(1,9)\n",
    "        c = random.randint(1,9)\n",
    "        idx = idx + 1\n",
    "    print('idx:{} a:{} b:{} c:{}'.format(idx,a,b,c))"
   ]
  },
  {
   "cell_type": "code",
   "execution_count": 21,
   "metadata": {},
   "outputs": [
    {
     "data": {
      "text/plain": [
       "729"
      ]
     },
     "execution_count": 21,
     "metadata": {},
     "output_type": "execute_result"
    }
   ],
   "source": [
    "9 ** 3"
   ]
  },
  {
   "cell_type": "markdown",
   "metadata": {},
   "source": []
  }
 ],
 "metadata": {
  "kernelspec": {
   "display_name": "Python 3.8.13 ('takuya')",
   "language": "python",
   "name": "python3"
  },
  "language_info": {
   "codemirror_mode": {
    "name": "ipython",
    "version": 3
   },
   "file_extension": ".py",
   "mimetype": "text/x-python",
   "name": "python",
   "nbconvert_exporter": "python",
   "pygments_lexer": "ipython3",
   "version": "3.8.13"
  },
  "orig_nbformat": 4,
  "vscode": {
   "interpreter": {
    "hash": "9462753b17c62bb3f4671fb2b3c7a16b22ecb791dac6128873dd2308b51cfa83"
   }
  }
 },
 "nbformat": 4,
 "nbformat_minor": 2
}

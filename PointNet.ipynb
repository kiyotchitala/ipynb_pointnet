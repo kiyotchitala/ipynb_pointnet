{
 "cells": [
  {
   "cell_type": "code",
   "execution_count": 2,
   "metadata": {},
   "outputs": [],
   "source": [
    "import torch\n",
    "import glob\n",
    "\n",
    "def data_sampler(path_1, path_2):\n",
    "    #path_2 = r'C:\\Users\\wtana\\Desktop\\LiDAR_cm\\syoumen\\kaneko\\200cm\\txt\\*'\n",
    "    true_files = glob.glob(path_1)\n",
    "    false_files = glob.glob(path_2)\n",
    "    \n",
    "    len_true = len(true_files)\n",
    "    len_false = len(false_files)\n",
    "    if len_true == 0 or len_false == 0:\n",
    "        print('No data available')\n",
    "        return 0,0\n",
    "\n",
    "    true_list = []\n",
    "    false_list = []\n",
    "\n",
    "    for idx in range(32):\n",
    "        s_num = []\n",
    "        with open(true_files[idx],'r') as f:\n",
    "            data = f.read().split('\\n')\n",
    "            for i in range(len(data)-1):\n",
    "                s = data[i].split(' ')\n",
    "                #print(i)\n",
    "                s_num.append([float(s[0]),float(s[1]),float(s[2])])\n",
    "        true_list.append([s_num])\n",
    "\n",
    "    for idx in range(32):\n",
    "        s_num = []\n",
    "        with open(false_files[idx],'r') as f:\n",
    "            data = f.read().split('\\n')\n",
    "            for i in range(len(data)-1):\n",
    "                s = data[i].split(' ')\n",
    "                s_num.append([float(s[0]),float(s[1]),float(s[2])])\n",
    "        false_list.append([s_num])\n",
    "    #len_true = len(true_list)\n",
    "    #len_false = len(false_list)\n",
    "\n",
    "    true_labels = torch.ones(len(true_list))\n",
    "    false_labels = torch.zeros(len(false_list))\n",
    "\n",
    "    #return true_list,false_list\n",
    "\n",
    "    input_data = torch.cat((torch.Tensor(true_list),torch.Tensor(false_list)))\n",
    "    labels = torch.cat((torch.Tensor(true_labels), torch.Tensor(false_labels)))\n",
    "    return input_data.view(-1,3), labels.view(-1, 1)\n",
    "\n"
   ]
  },
  {
   "cell_type": "code",
   "execution_count": 20,
   "metadata": {},
   "outputs": [],
   "source": [
    "from model import *\n",
    "#from sampler import *\n",
    "#from self_made import *\n",
    "import time\n",
    "\n",
    "loss = []\n",
    "Accu = []\n",
    "\n",
    "batch_size = 64\n",
    "num_points = 64\n",
    "num_labels = 1\n",
    "def main_():\n",
    "    s_time = time.time()\n",
    "    pointnet = PointNet(num_points, num_labels)\n",
    "\n",
    "    #new_param = pointnet.state_dict()\n",
    "    #new_param['main.0.main.6.bias'] = torch.eye(3, 3).view(-1)\n",
    "    #new_param['main.3.main.6.bias'] = torch.eye(batch_size, batch_size).view(-1)\n",
    "    #pointnet.load_state_dict(new_param)\n",
    "    pointnet.load_state_dict(torch.load('./human_tree.pth'))\n",
    "    criterion = nn.BCELoss()\n",
    "    optimizer = optim.Adam(pointnet.parameters(), lr=0.001)\n",
    "\n",
    "    loss_list = []\n",
    "    accuracy_list = []\n",
    "\n",
    "    for iteration in range(4+1):\n",
    "\n",
    "        pointnet.zero_grad()\n",
    "        input_data, labels = data_sampler(path_1='./normalize_txt/takuya/150cm/*',path_2='./normalize_txt/tree/*')\n",
    "        #input_data, labels = data_sampler(batch_size, num_points)\n",
    "\n",
    "        output = pointnet(input_data)\n",
    "        output = nn.Sigmoid()(output)\n",
    "\n",
    "        error = criterion(output, labels)\n",
    "        error.backward()\n",
    "\n",
    "        optimizer.step()\n",
    "\n",
    "        with torch.no_grad():\n",
    "            output[output > 0.5] = 1\n",
    "            output[output < 0.5] = 0\n",
    "            accuracy = (output==labels).sum().item()/batch_size\n",
    "\n",
    "        loss.append(float(error.item()))\n",
    "        Accu.append(float(accuracy))\n",
    "        #if iteration % 10 == 0:\n",
    "\n",
    "            #print('Iteration : {}   Loss : {}'.format(iteration, error.item()))\n",
    "            #print('Iteration : {}   Accuracy : {}'.format(iteration, accuracy))\n",
    "    #torch.save(pointnet.state_dict(), './model_2.pth')\n",
    "    f_time = time.time()\n",
    "    return pointnet,f_time-s_time"
   ]
  },
  {
   "cell_type": "code",
   "execution_count": 21,
   "metadata": {},
   "outputs": [
    {
     "name": "stdout",
     "output_type": "stream",
     "text": [
      "finished\n"
     ]
    }
   ],
   "source": [
    "pointnet,time = main_()\n",
    "print(\"finished\")"
   ]
  },
  {
   "cell_type": "code",
   "execution_count": null,
   "metadata": {},
   "outputs": [],
   "source": [
    "model_params = torch.load('./model_2.pth')\n",
    "model_params"
   ]
  },
  {
   "cell_type": "code",
   "execution_count": 21,
   "metadata": {},
   "outputs": [],
   "source": [
    "input_data, labels = data_sampler(path_1='./normalize_txt/takuya/150cm/*',path_2='./normalize_txt/tree/*')"
   ]
  },
  {
   "cell_type": "code",
   "execution_count": 22,
   "metadata": {},
   "outputs": [
    {
     "data": {
      "image/png": "[encoded data removed]",
      "text/plain": [
       "<Figure size 432x288 with 1 Axes>"
      ]
     },
     "metadata": {
      "needs_background": "light"
     },
     "output_type": "display_data"
    }
   ],
   "source": [
    "import matplotlib.pyplot as plt\n",
    "x = range(0,len(Accu))\n",
    "plt.plot(x,Accu,marker='.')\n",
    "plt.plot(x,loss,marker='.')\n",
    "plt.grid('TRUE')"
   ]
  },
  {
   "cell_type": "code",
   "execution_count": 23,
   "metadata": {},
   "outputs": [
    {
     "data": {
      "text/plain": [
       "1.4477448463439941"
      ]
     },
     "execution_count": 23,
     "metadata": {},
     "output_type": "execute_result"
    }
   ],
   "source": [
    "time"
   ]
  },
  {
   "cell_type": "markdown",
   "metadata": {},
   "source": []
  }
 ],
 "metadata": {
  "kernelspec": {
   "display_name": "Python 3.7.9 64-bit (microsoft store)",
   "language": "python",
   "name": "python3"
  },
  "language_info": {
   "codemirror_mode": {
    "name": "ipython",
    "version": 3
   },
   "file_extension": ".py",
   "mimetype": "text/x-python",
   "name": "python",
   "nbconvert_exporter": "python",
   "pygments_lexer": "ipython3",
   "version": "3.7.9"
  },
  "orig_nbformat": 4,
  "vscode": {
   "interpreter": {
    "hash": "acbd0e66dec935704100b48c8f7da3ee00c3005c5519c82b53c6646e34276c02"
   }
  }
 },
 "nbformat": 4,
 "nbformat_minor": 2
}

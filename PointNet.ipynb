{
 "cells": [
  {
   "cell_type": "code",
   "execution_count": 28,
   "metadata": {},
   "outputs": [],
   "source": [
    "from model import  * \n",
    "import time\n",
    "from self_pack import self_made\n",
    "import torch.nn as nn\n",
    "import torch.optim as optim\n",
    "\n",
    "batch_size = 64\n",
    "num_points = 64 * 8\n",
    "num_labels = 1\n",
    "loss = []\n",
    "Accu = []\n",
    "def main_(path_1,path_2,epoch):\n",
    "    pointnet = PointNet(num_points, num_labels)\n",
    "\n",
    "    #new_param = pointnet.state_dict()\n",
    "    #new_param['main.0.main.6.bias'] = torch.eye(3, 3).view(-1)\n",
    "    #new_param['main.3.main.6.bias'] = torch.eye(64,64).view(-1)\n",
    "    #pointnet.load_state_dict(new_param)\n",
    "    pointnet.load_state_dict(torch.load('./models/human_wall_95_40.pth'))\n",
    "    criterion = nn.BCELoss()\n",
    "    optimizer = optim.Adam(pointnet.parameters(), lr=0.001)\n",
    "    times = [0]\n",
    "    for idx in range(epoch+1):\n",
    "        print(idx)\n",
    "        s = time.time()\n",
    "        pointnet.zero_grad()\n",
    "        input_data, labels = self_made.data_sampler(path_1,path_2)\n",
    "\n",
    "        output = pointnet(input_data)\n",
    "        output = nn.Sigmoid()(output)\n",
    "\n",
    "        error = criterion(output, labels)\n",
    "        error.backward()\n",
    "\n",
    "        optimizer.step()\n",
    "\n",
    "        with torch.no_grad():\n",
    "            output[output > 0.5] = 1\n",
    "            output[output < 0.5] = 0\n",
    "            accuracy = (output==labels).sum().item()/batch_size\n",
    "        #f = time.time()\n",
    "        #loss.append(float(error.item()))\n",
    "        #Accu.append(float(accuracy))\n",
    "        #times.append(times[-1] + f-s)\n",
    "        #if iteration % 10 == 0:\n",
    "\n",
    "            #print('Iteration : {}   Loss : {}'.format(iteration, error.item()))\n",
    "            #print('Iteration : {}   Accuracy : {}'.format(iteration, accuracy))\n",
    "    #torch.save(pointnet.state_dict(), './model_2.pth')\n",
    "    return pointnet#,times"
   ]
  },
  {
   "cell_type": "code",
   "execution_count": 29,
   "metadata": {},
   "outputs": [
    {
     "name": "stdout",
     "output_type": "stream",
     "text": [
      "0\n",
      "1\n",
      "2\n",
      "3\n"
     ]
    }
   ],
   "source": [
    "#電源接続していないときは遅いね\n",
    "#電源関係あるのかな？\n",
    "\n",
    "\n",
    "import time \n",
    "from self_pack import self_made\n",
    "import torch\n",
    "#s = time.time()\n",
    "pointnet = main_('./normalize_txt/40_95/test_human/*','./normalize_txt/40_95/test_wall/*',3)\n",
    "#torch.save(pointnet.state_dict(), './models/human_wall_95_40.pth')\n",
    "#takuya/* と tree/*で再度モデルの作成→保存のやり直し\n",
    "#f = time.time()\n",
    "#print(f-s)"
   ]
  },
  {
   "cell_type": "code",
   "execution_count": 12,
   "metadata": {},
   "outputs": [],
   "source": [
    "#torch.save(pointnet.state_dict(), './models/human_wall_95_40.pth')"
   ]
  },
  {
   "cell_type": "code",
   "execution_count": 29,
   "metadata": {},
   "outputs": [
    {
     "name": "stdout",
     "output_type": "stream",
     "text": [
      "Accuracy is 1.0 %\n"
     ]
    }
   ],
   "source": [
    "print('Accuracy is {} %'.format(max(Accu)))"
   ]
  },
  {
   "cell_type": "code",
   "execution_count": 31,
   "metadata": {},
   "outputs": [
    {
     "data": {
      "text/plain": [
       "<matplotlib.legend.Legend at 0x1fa07a1bbb0>"
      ]
     },
     "execution_count": 31,
     "metadata": {},
     "output_type": "execute_result"
    },
    {
     "data": {
      "image/png": "[encoded data removed]",
      "text/plain": [
       "<Figure size 640x480 with 1 Axes>"
      ]
     },
     "metadata": {},
     "output_type": "display_data"
    }
   ],
   "source": [
    "import matplotlib.pyplot as plt\n",
    "x = range(1,len(Accu)+1)\n",
    "ti = []\n",
    "n = 0\n",
    "plt.figure(facecolor=\"azure\", edgecolor=\"coral\", linewidth=2)\n",
    "plt.plot(x,Accu,marker='.',label='Accuracy')\n",
    "plt.plot(x,loss,marker='.',label='loss')\n",
    "plt.xlabel('time(s)')\n",
    "plt.ylabel('Accuracy')\n",
    "plt.title('evaluation')\n",
    "plt.minorticks_on()\n",
    "plt.grid(which='both')\n",
    "plt.legend()"
   ]
  },
  {
   "cell_type": "code",
   "execution_count": 7,
   "metadata": {},
   "outputs": [
    {
     "data": {
      "text/plain": [
       "12"
      ]
     },
     "execution_count": 7,
     "metadata": {},
     "output_type": "execute_result"
    }
   ],
   "source": [
    "len(times)"
   ]
  },
  {
   "cell_type": "code",
   "execution_count": 8,
   "metadata": {},
   "outputs": [
    {
     "data": {
      "text/plain": [
       "112"
      ]
     },
     "execution_count": 8,
     "metadata": {},
     "output_type": "execute_result"
    }
   ],
   "source": [
    "len(Accu)"
   ]
  },
  {
   "cell_type": "code",
   "execution_count": null,
   "metadata": {},
   "outputs": [],
   "source": []
  }
 ],
 "metadata": {
  "kernelspec": {
   "display_name": "Python 3.8.13 ('takuya')",
   "language": "python",
   "name": "python3"
  },
  "language_info": {
   "codemirror_mode": {
    "name": "ipython",
    "version": 3
   },
   "file_extension": ".py",
   "mimetype": "text/x-python",
   "name": "python",
   "nbconvert_exporter": "python",
   "pygments_lexer": "ipython3",
   "version": "3.8.13"
  },
  "orig_nbformat": 4,
  "vscode": {
   "interpreter": {
    "hash": "9462753b17c62bb3f4671fb2b3c7a16b22ecb791dac6128873dd2308b51cfa83"
   }
  }
 },
 "nbformat": 4,
 "nbformat_minor": 2
}

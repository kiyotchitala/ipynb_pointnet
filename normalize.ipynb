{
 "cells": [
  {
   "cell_type": "markdown",
   "metadata": {},
   "source": [
    "### 正規化をしてテキストファイルに起こすノートブックです"
   ]
  },
  {
   "cell_type": "code",
   "execution_count": 4,
   "metadata": {},
   "outputs": [],
   "source": [
    "import glob\n",
    "import math\n",
    "\n",
    "def split_list(l,n):\n",
    "    for idx in range(0,len(l)-1,n):\n",
    "        yield l[idx:idx + n]\n",
    "\n",
    "def normalize_points(path,xmin,xmax,ymin,ymax,normalize):\n",
    "    #LiDARからの生のデータを入力してね\n",
    "    files = glob.glob(path)\n",
    "    if len(files) == 0:\n",
    "        print('No data available')\n",
    "        return \n",
    "    with open(files[0],'r') as f:\n",
    "        data = f.read().split('\\n')\n",
    "    normalize_x = []\n",
    "    normalize_y = []\n",
    "    for idx in range(1,len(data)-1):\n",
    "        d_k = data[idx].replace('(','').replace(')',',').replace('[','').replace(']','')\n",
    "        sp_ka = d_k.split(',')\n",
    "        angl = [] #角度\n",
    "        dist = [] #距離\n",
    "        result = list(split_list(sp_ka,3))\n",
    "        for idx in range(len(result)):\n",
    "            angl.append(float(result[idx][1]))\n",
    "            dist.append(float(result[idx][2]))\n",
    "\n",
    "        points_x = []\n",
    "        points_y = []\n",
    "        for i in range(len(angl)):\n",
    "            x = dist[i] * math.cos(math.radians(angl[i])) \n",
    "            y = math.sqrt(dist[i] ** 2 - x ** 2) \n",
    "            x = x / 10\n",
    "            y = y / 10\n",
    "            if(0 <= float(angl[i]) and float(angl[i]) <= 90):\n",
    "                points_x.append(x)\n",
    "                points_y.append(-y)\n",
    "            elif(90 < float(angl[i]) and float(angl[i]) <= 180):\n",
    "                points_x.append(x)\n",
    "                points_y.append(-y)\n",
    "            elif(180 < float(angl[i]) and float(angl[i]) <= 270):\n",
    "                points_x.append(x)\n",
    "                points_y.append(y)\n",
    "            else:\n",
    "                points_x.append(x)\n",
    "                points_y.append(y)\n",
    "        #ここで座標指定をしてしまうのがベスト？\n",
    "\n",
    "        if normalize == 1:\n",
    "            if xmin == -1 and xmax == -1:\n",
    "                xmin = min(points_x)\n",
    "                xmax = max(points_x)\n",
    "                ymin = min(points_y)\n",
    "                ymax = max(points_y)\n",
    "            human_x = []\n",
    "            human_y = [] \n",
    "            for point_x,point_y in zip(points_x,points_y):\n",
    "                if xmin <= point_x and point_x <= xmax and ymin <= point_y and point_y <= ymax:\n",
    "                    human_x.append(point_x)\n",
    "                    human_y.append(point_y)\n",
    "            max_points_x = max(human_x)\n",
    "            min_points_x = min(human_x)\n",
    "            max_points_y = max(human_y)\n",
    "            min_points_y = min(human_y)\n",
    "            bo_x = max_points_x - min_points_x\n",
    "            bo_y = max_points_y - min_points_y\n",
    "            n_x = []\n",
    "            n_y = []\n",
    "            for h_x in human_x:\n",
    "                n_x.append((h_x - min_points_x) / bo_x)\n",
    "            for h_y in human_y:\n",
    "                n_y.append((h_y - min_points_y) / bo_y)\n",
    "            normalize_x.append(n_x)\n",
    "            normalize_y.append(n_y)\n",
    "        else:\n",
    "            human_x = []\n",
    "            human_y = []\n",
    "            if xmin == -1 and xmax == -1:\n",
    "                xmin = min(points_x)\n",
    "                xmax = max(points_x)\n",
    "                ymin = min(points_y)\n",
    "                ymax = max(points_y)\n",
    "            for point_x,point_y in zip(points_x,points_y):\n",
    "                if xmin <= point_x and point_x <= xmax and ymin <= point_y and point_y <= ymax:\n",
    "                    human_x.append(point_x)\n",
    "                    human_y.append(point_y)\n",
    "            n_x = []\n",
    "            n_y = []\n",
    "            for h_x,h_y in zip(human_x,human_y):\n",
    "                n_x.append(h_x)\n",
    "                n_y.append(h_y)\n",
    "            normalize_x.append(n_x)\n",
    "            normalize_y.append(n_y)\n",
    "    return normalize_x,normalize_y,normalize"
   ]
  },
  {
   "cell_type": "code",
   "execution_count": 9,
   "metadata": {},
   "outputs": [],
   "source": [
    "path = r'C:\\Users\\wtana\\Desktop\\LiDAR_cm\\lidar_txt_files\\tree.txt'\n",
    "#plotの範囲を全部にするならxmin and xmax に-1\n",
    "#normalizeするなら1\n",
    "#しないなら0\n",
    "x,y,no = normalize_points(path,xmin=0,xmax=200,ymin=-100,ymax=100,normalize=1)\n",
    "#x,y,no = normalize_points(path,xmin=-1,xmax=-1,ymin=0,ymax=500,normalize=0)"
   ]
  },
  {
   "cell_type": "code",
   "execution_count": 10,
   "metadata": {},
   "outputs": [
    {
     "data": {
      "image/png": "[encoded data removed]",
      "text/plain": [
       "<Figure size 640x480 with 1 Axes>"
      ]
     },
     "metadata": {},
     "output_type": "display_data"
    }
   ],
   "source": [
    "import matplotlib.pyplot as plt\n",
    "plt.plot(x[6],y[6],linestyle='',marker='*')\n",
    "plt.grid('TRUE')\n",
    "#plt.savefig('../md_matome/images/tree_right_normalize.png')"
   ]
  },
  {
   "cell_type": "code",
   "execution_count": 11,
   "metadata": {},
   "outputs": [],
   "source": [
    "s = ''\n",
    "for i in range(len(x)):\n",
    "    s = ''\n",
    "    with open('./normalize_txt/tree/'+str(i)+'.txt','a') as f:\n",
    "        for x_,y_ in zip(x[i],y[i]):\n",
    "            s = s + str(x_) + ' ' + str(y_) + ' 95\\n'\n",
    "        f.write(s)\n",
    "\n"
   ]
  },
  {
   "cell_type": "code",
   "execution_count": 12,
   "metadata": {},
   "outputs": [],
   "source": [
    "import glob\n",
    "import random\n",
    "file_path = './normalize_txt/tree/*'\n",
    "files = glob.glob(file_path)\n",
    "for idx,file in enumerate(files):\n",
    "    f = open(file,'r')\n",
    "    data = f.read().split('\\n')\n",
    "    f.close()\n",
    "    f = open(file,'a')\n",
    "    for _ in range(33 -len(data)):\n",
    "        num = random.randint(0,len(data)-10)\n",
    "        f.write(str(data[num])+'\\n')\n",
    "    f.close()"
   ]
  },
  {
   "cell_type": "code",
   "execution_count": 15,
   "metadata": {},
   "outputs": [],
   "source": []
  }
 ],
 "metadata": {
  "kernelspec": {
   "display_name": "Python 3.8.12 ('takuya')",
   "language": "python",
   "name": "python3"
  },
  "language_info": {
   "codemirror_mode": {
    "name": "ipython",
    "version": 3
   },
   "file_extension": ".py",
   "mimetype": "text/x-python",
   "name": "python",
   "nbconvert_exporter": "python",
   "pygments_lexer": "ipython3",
   "version": "3.8.13"
  },
  "orig_nbformat": 4,
  "vscode": {
   "interpreter": {
    "hash": "9462753b17c62bb3f4671fb2b3c7a16b22ecb791dac6128873dd2308b51cfa83"
   }
  }
 },
 "nbformat": 4,
 "nbformat_minor": 2
}

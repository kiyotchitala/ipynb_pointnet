{
 "cells": [
  {
   "cell_type": "markdown",
   "metadata": {},
   "source": [
    "### 正規化をしてテキストファイルに起こすノートブックです"
   ]
  },
  {
   "cell_type": "code",
   "execution_count": 80,
   "metadata": {},
   "outputs": [],
   "source": [
    "import glob\n",
    "import math\n",
    "\n",
    "def split_list(l,n):\n",
    "    for idx in range(0,len(l)-1,n):\n",
    "        yield l[idx:idx + n]\n",
    "\n",
    "def normalize_points(path,xmin,xmax,ymin,ymax,normalize):\n",
    "    #LiDARからの生のデータを入力してね\n",
    "    files = glob.glob(path)\n",
    "    if len(files) == 0:\n",
    "        print('No data available')\n",
    "        return \n",
    "    with open(files[0],'r') as f:\n",
    "        data = f.read().split('\\n')\n",
    "    normalize_x = []\n",
    "    normalize_y = []\n",
    "    for idx in range(1,len(data)-1):\n",
    "        d_k = data[idx].replace('(','').replace(')',',').replace('[','').replace(']','')\n",
    "        sp_ka = d_k.split(',')\n",
    "        angl = [] #角度\n",
    "        dist = [] #距離\n",
    "        result = list(split_list(sp_ka,3))\n",
    "        for idx in range(len(result)):\n",
    "            angl.append(float(result[idx][1]))\n",
    "            dist.append(float(result[idx][2]))\n",
    "\n",
    "        points_x = []\n",
    "        points_y = []\n",
    "        for i in range(len(angl)):\n",
    "            x = dist[i] * math.cos(math.radians(angl[i])) \n",
    "            y = math.sqrt(dist[i] ** 2 - x ** 2) \n",
    "            x = x / 10\n",
    "            y = y / 10\n",
    "            if(0 <= float(angl[i]) and float(angl[i]) <= 90):\n",
    "                points_x.append(x)\n",
    "                points_y.append(-y)\n",
    "            elif(90 < float(angl[i]) and float(angl[i]) <= 180):\n",
    "                points_x.append(x)\n",
    "                points_y.append(-y)\n",
    "            elif(180 < float(angl[i]) and float(angl[i]) <= 270):\n",
    "                points_x.append(x)\n",
    "                points_y.append(y)\n",
    "            else:\n",
    "                points_x.append(x)\n",
    "                points_y.append(y)\n",
    "        #ここで座標指定をしてしまうのがベスト？\n",
    "\n",
    "        if normalize == 1:\n",
    "            if xmin == -1 and xmax == -1:\n",
    "                xmin = min(points_x)\n",
    "                xmax = max(points_x)\n",
    "                ymin = min(points_y)\n",
    "                ymax = max(points_y)\n",
    "            human_x = []\n",
    "            human_y = [] \n",
    "            for point_x,point_y in zip(points_x,points_y):\n",
    "                if xmin <= point_x and point_x <= xmax and ymin <= point_y and point_y <= ymax:\n",
    "                    human_x.append(point_x)\n",
    "                    human_y.append(point_y)\n",
    "            max_points_x = max(human_x)\n",
    "            min_points_x = min(human_x)\n",
    "            max_points_y = max(human_y)\n",
    "            min_points_y = min(human_y)\n",
    "            bo_x = max_points_x - min_points_x\n",
    "            bo_y = max_points_y - min_points_y\n",
    "            n_x = []\n",
    "            n_y = []\n",
    "            for h_x in human_x:\n",
    "                n_x.append((h_x - min_points_x) / bo_x)\n",
    "            for h_y in human_y:\n",
    "                n_y.append((h_y - min_points_y) / bo_y)\n",
    "            normalize_x.append(n_x)\n",
    "            normalize_y.append(n_y)\n",
    "        else:\n",
    "            human_x = []\n",
    "            human_y = []\n",
    "            if xmin == -1 and xmax == -1:\n",
    "                xmin = min(points_x)\n",
    "                xmax = max(points_x)\n",
    "                ymin = min(points_y)\n",
    "                ymax = max(points_y)\n",
    "            for point_x,point_y in zip(points_x,points_y):\n",
    "                if xmin <= point_x and point_x <= xmax and ymin <= point_y and point_y <= ymax:\n",
    "                    human_x.append(point_x)\n",
    "                    human_y.append(point_y)\n",
    "            n_x = []\n",
    "            n_y = []\n",
    "            for h_x,h_y in zip(human_x,human_y):\n",
    "                n_x.append(h_x)\n",
    "                n_y.append(h_y)\n",
    "            normalize_x.append(n_x)\n",
    "            normalize_y.append(n_y)\n",
    "    return normalize_x,normalize_y,normalize"
   ]
  },
  {
   "cell_type": "code",
   "execution_count": 113,
   "metadata": {},
   "outputs": [],
   "source": [
    "path = r'C:\\Users\\wtana\\Desktop\\LiDAR_cm\\lidar_txt_files\\wall_3.txt'\n",
    "#plotの範囲を全部にするならxmin and xmax に-1\n",
    "#normalizeするなら1\n",
    "#しないなら0\n",
    "x,y,no = normalize_points(path,xmin=-400,xmax=-225,ymin=-500,ymax=0,normalize=1)\n",
    "#x,y,no = normalize_points(path,xmin=-1,xmax=-1,ymin=0,ymax=500,normalize=0)"
   ]
  },
  {
   "cell_type": "code",
   "execution_count": 114,
   "metadata": {},
   "outputs": [
    {
     "data": {
      "image/png": "[encoded data removed]",
      "text/plain": [
       "<Figure size 640x480 with 1 Axes>"
      ]
     },
     "metadata": {},
     "output_type": "display_data"
    }
   ],
   "source": [
    "import matplotlib.pyplot as plt\n",
    "plt.plot(x[5],y[5],linestyle='',marker='*')\n",
    "plt.grid('TRUE')\n",
    "#plt.savefig('../md_matome/images/tree_right_normalize.png')"
   ]
  },
  {
   "cell_type": "code",
   "execution_count": 96,
   "metadata": {},
   "outputs": [],
   "source": [
    "s = ''\n",
    "for i in range(len(x)):\n",
    "    s = ''\n",
    "    with open('./normalize_txt/wall/'+str(i)+'.txt','a') as f:\n",
    "        for x_,y_ in zip(x[i],y[i]):\n",
    "            s = s + str(x_) + ' ' + str(y_) + ' 40\\n'\n",
    "        f.write(s)\n",
    "\n"
   ]
  },
  {
   "cell_type": "code",
   "execution_count": 9,
   "metadata": {},
   "outputs": [
    {
     "data": {
      "text/plain": [
       "'0.9120298838130259 1.0 95\\n0.9000239267754437 0.9236224442617277 95\\n0.8530375483182776 0.8432134516178998 95\\n0.5897246564520376 0.7588806795274123 95\\n0.39525592077157196 0.6827593365456596 95\\n0.2545384555567279 0.6055014876481026 95\\n0.03672297974033477 0.5315118036697246 95\\n0.0 0.45826613209347034 95\\n0.17286538039110108 0.3896190221509823 95\\n0.41320668414052647 0.31622685727541205 95\\n0.584577070657579 0.2394034603455049 95\\n0.8497559604920741 0.1568736723968907 95\\n0.8737120471348135 0.08029839250171875 95\\n1.0 0.0 95\\n'"
      ]
     },
     "execution_count": 9,
     "metadata": {},
     "output_type": "execute_result"
    }
   ],
   "source": [
    "s"
   ]
  },
  {
   "cell_type": "code",
   "execution_count": 97,
   "metadata": {},
   "outputs": [],
   "source": [
    "from model import *\n",
    "#from sampler import *\n",
    "from self_made import *\n",
    "\n",
    "loss = []\n",
    "Accu = []\n",
    "\n",
    "batch_size = 64\n",
    "num_points = 64\n",
    "num_labels = 1\n",
    "def main_():\n",
    "    pointnet = PointNet(num_points, num_labels)\n",
    "\n",
    "    new_param = pointnet.state_dict()\n",
    "    new_param['main.0.main.6.bias'] = torch.eye(3, 3).view(-1)\n",
    "    new_param['main.3.main.6.bias'] = torch.eye(64, 64).view(-1)\n",
    "    pointnet.load_state_dict(new_param)\n",
    "\n",
    "    criterion = nn.BCELoss()\n",
    "    optimizer = optim.Adam(pointnet.parameters(), lr=0.001)\n",
    "\n",
    "    loss_list = []\n",
    "    accuracy_list = []\n",
    "\n",
    "    for iteration in range(200):\n",
    "\n",
    "        pointnet.zero_grad()\n",
    "        input_data, labels = data_sampler(path_1='./normalize_txt/takuya/150cm/*',path_2='./normalize_txt/wall/*')\n",
    "        #input_data, labels = data_sampler(batch_size, num_points)\n",
    "\n",
    "        output = pointnet(input_data)\n",
    "        output = nn.Sigmoid()(output)\n",
    "\n",
    "        error = criterion(output, labels)\n",
    "        error.backward()\n",
    "\n",
    "        optimizer.step()\n",
    "\n",
    "        with torch.no_grad():\n",
    "            output[output > 0.5] = 1\n",
    "            output[output < 0.5] = 0\n",
    "            accuracy = (output==labels).sum().item()/batch_size\n",
    "\n",
    "        loss_list.append(error.item())\n",
    "        accuracy_list.append(accuracy)\n",
    "        loss.append(float(error.item()))\n",
    "        Accu.append(float(accuracy))\n",
    "        if iteration % 10 == 0:\n",
    "\n",
    "            print('Iteration : {}   Loss : {}'.format(iteration, error.item()))\n",
    "            print('Iteration : {}   Accuracy : {}'.format(iteration, accuracy))\n",
    "            "
   ]
  },
  {
   "cell_type": "code",
   "execution_count": 98,
   "metadata": {},
   "outputs": [
    {
     "ename": "RuntimeError",
     "evalue": "Sizes of tensors must match except in dimension 0. Expected size 32 but got size 80 for tensor number 1 in the list.",
     "output_type": "error",
     "traceback": [
      "\u001b[1;31m---------------------------------------------------------------------------\u001b[0m",
      "\u001b[1;31mRuntimeError\u001b[0m                              Traceback (most recent call last)",
      "\u001b[1;32mセル8 を c:\\Users\\wtana\\Desktop\\github\\pointnet-master\\normalize.ipynb\u001b[0m in \u001b[0;36m<cell line: 1>\u001b[1;34m()\u001b[0m\n\u001b[1;32m----> <a href='vscode-notebook-cell:/c%3A/Users/wtana/Desktop/github/pointnet-master/normalize.ipynb#X10sZmlsZQ%3D%3D?line=0'>1</a>\u001b[0m main_()\n",
      "\u001b[1;32mセル8 を c:\\Users\\wtana\\Desktop\\github\\pointnet-master\\normalize.ipynb\u001b[0m in \u001b[0;36mmain_\u001b[1;34m()\u001b[0m\n\u001b[0;32m     <a href='vscode-notebook-cell:/c%3A/Users/wtana/Desktop/github/pointnet-master/normalize.ipynb#X10sZmlsZQ%3D%3D?line=24'>25</a>\u001b[0m \u001b[39mfor\u001b[39;00m iteration \u001b[39min\u001b[39;00m \u001b[39mrange\u001b[39m(\u001b[39m200\u001b[39m):\n\u001b[0;32m     <a href='vscode-notebook-cell:/c%3A/Users/wtana/Desktop/github/pointnet-master/normalize.ipynb#X10sZmlsZQ%3D%3D?line=26'>27</a>\u001b[0m     pointnet\u001b[39m.\u001b[39mzero_grad()\n\u001b[1;32m---> <a href='vscode-notebook-cell:/c%3A/Users/wtana/Desktop/github/pointnet-master/normalize.ipynb#X10sZmlsZQ%3D%3D?line=27'>28</a>\u001b[0m     input_data, labels \u001b[39m=\u001b[39m data_sampler(path_1\u001b[39m=\u001b[39;49m\u001b[39m'\u001b[39;49m\u001b[39m./normalize_txt/takuya/150cm/*\u001b[39;49m\u001b[39m'\u001b[39;49m,path_2\u001b[39m=\u001b[39;49m\u001b[39m'\u001b[39;49m\u001b[39m./normalize_txt/wall/*\u001b[39;49m\u001b[39m'\u001b[39;49m)\n\u001b[0;32m     <a href='vscode-notebook-cell:/c%3A/Users/wtana/Desktop/github/pointnet-master/normalize.ipynb#X10sZmlsZQ%3D%3D?line=28'>29</a>\u001b[0m     \u001b[39m#input_data, labels = data_sampler(batch_size, num_points)\u001b[39;00m\n\u001b[0;32m     <a href='vscode-notebook-cell:/c%3A/Users/wtana/Desktop/github/pointnet-master/normalize.ipynb#X10sZmlsZQ%3D%3D?line=30'>31</a>\u001b[0m     output \u001b[39m=\u001b[39m pointnet(input_data)\n",
      "File \u001b[1;32mc:\\Users\\wtana\\Desktop\\github\\pointnet-master\\self_made.py:41\u001b[0m, in \u001b[0;36mdata_sampler\u001b[1;34m(path_1, path_2)\u001b[0m\n\u001b[0;32m     38\u001b[0m true_labels \u001b[39m=\u001b[39m torch\u001b[39m.\u001b[39mones(\u001b[39m32\u001b[39m)\n\u001b[0;32m     39\u001b[0m false_labels \u001b[39m=\u001b[39m torch\u001b[39m.\u001b[39mzeros(\u001b[39m32\u001b[39m)\n\u001b[1;32m---> 41\u001b[0m input_data \u001b[39m=\u001b[39m torch\u001b[39m.\u001b[39;49mcat((torch\u001b[39m.\u001b[39;49mTensor(true_list),torch\u001b[39m.\u001b[39;49mTensor(false_list)))\n\u001b[0;32m     42\u001b[0m labels \u001b[39m=\u001b[39m torch\u001b[39m.\u001b[39mcat((torch\u001b[39m.\u001b[39mTensor(true_labels), torch\u001b[39m.\u001b[39mTensor(false_labels)))\n\u001b[0;32m     43\u001b[0m \u001b[39mreturn\u001b[39;00m input_data\u001b[39m.\u001b[39mview(\u001b[39m-\u001b[39m\u001b[39m1\u001b[39m,\u001b[39m3\u001b[39m), labels\u001b[39m.\u001b[39mview(\u001b[39m-\u001b[39m\u001b[39m1\u001b[39m, \u001b[39m1\u001b[39m)\n",
      "\u001b[1;31mRuntimeError\u001b[0m: Sizes of tensors must match except in dimension 0. Expected size 32 but got size 80 for tensor number 1 in the list."
     ]
    }
   ],
   "source": [
    "main_()"
   ]
  },
  {
   "cell_type": "code",
   "execution_count": 1,
   "metadata": {},
   "outputs": [
    {
     "ename": "NameError",
     "evalue": "name 'Accu' is not defined",
     "output_type": "error",
     "traceback": [
      "\u001b[1;31m---------------------------------------------------------------------------\u001b[0m",
      "\u001b[1;31mNameError\u001b[0m                                 Traceback (most recent call last)",
      "\u001b[1;32mセル9 を c:\\Users\\wtana\\Desktop\\github\\pointnet-master\\normalize.ipynb\u001b[0m in \u001b[0;36m<cell line: 2>\u001b[1;34m()\u001b[0m\n\u001b[0;32m      <a href='vscode-notebook-cell:/c%3A/Users/wtana/Desktop/github/pointnet-master/normalize.ipynb#X11sZmlsZQ%3D%3D?line=0'>1</a>\u001b[0m \u001b[39mimport\u001b[39;00m \u001b[39mmatplotlib\u001b[39;00m\u001b[39m.\u001b[39;00m\u001b[39mpyplot\u001b[39;00m \u001b[39mas\u001b[39;00m \u001b[39mplt\u001b[39;00m\n\u001b[1;32m----> <a href='vscode-notebook-cell:/c%3A/Users/wtana/Desktop/github/pointnet-master/normalize.ipynb#X11sZmlsZQ%3D%3D?line=1'>2</a>\u001b[0m a_len \u001b[39m=\u001b[39m \u001b[39mlen\u001b[39m(Accu)\n\u001b[0;32m      <a href='vscode-notebook-cell:/c%3A/Users/wtana/Desktop/github/pointnet-master/normalize.ipynb#X11sZmlsZQ%3D%3D?line=2'>3</a>\u001b[0m x_ \u001b[39m=\u001b[39m \u001b[39mlist\u001b[39m(\u001b[39mrange\u001b[39m(\u001b[39mlen\u001b[39m(Accu)))\n\u001b[0;32m      <a href='vscode-notebook-cell:/c%3A/Users/wtana/Desktop/github/pointnet-master/normalize.ipynb#X11sZmlsZQ%3D%3D?line=3'>4</a>\u001b[0m plt\u001b[39m.\u001b[39mtitle(\u001b[39m'\u001b[39m\u001b[39mpointnet_result\u001b[39m\u001b[39m'\u001b[39m)\n",
      "\u001b[1;31mNameError\u001b[0m: name 'Accu' is not defined"
     ]
    }
   ],
   "source": [
    "import matplotlib.pyplot as plt\n",
    "a_len = len(Accu)\n",
    "x_ = list(range(len(Accu)))\n",
    "plt.title('pointnet_result')\n",
    "plt.plot(x_,Accu,marker='.',label='Accuracy')\n",
    "plt.plot(x_,loss,marker='.',label='loss')\n",
    "plt.legend()\n",
    "plt.savefig('./pointnet_tree_human.png')"
   ]
  }
 ],
 "metadata": {
  "kernelspec": {
   "display_name": "Python 3.8.12 ('takuya')",
   "language": "python",
   "name": "python3"
  },
  "language_info": {
   "codemirror_mode": {
    "name": "ipython",
    "version": 3
   },
   "file_extension": ".py",
   "mimetype": "text/x-python",
   "name": "python",
   "nbconvert_exporter": "python",
   "pygments_lexer": "ipython3",
   "version": "3.8.13"
  },
  "orig_nbformat": 4,
  "vscode": {
   "interpreter": {
    "hash": "9462753b17c62bb3f4671fb2b3c7a16b22ecb791dac6128873dd2308b51cfa83"
   }
  }
 },
 "nbformat": 4,
 "nbformat_minor": 2
}

{
 "cells": [
  {
   "cell_type": "markdown",
   "metadata": {},
   "source": [
    "### 正規化をしてテキストファイルに起こすノートブックです"
   ]
  },
  {
   "cell_type": "code",
   "execution_count": 1,
   "metadata": {},
   "outputs": [],
   "source": [
    "import glob\n",
    "import math\n",
    "\n",
    "def split_list(l,n):\n",
    "    for idx in range(0,len(l)-1,n):\n",
    "        yield l[idx:idx + n]\n",
    "\n",
    "def normalize_points(path,xmin,xmax,ymin,ymax):\n",
    "    #LiDARからの生のデータを入力してね\n",
    "    files = glob.glob(path)\n",
    "    if len(files) == 0:\n",
    "        print('No data available')\n",
    "        return \n",
    "    with open(files[0],'r') as f:\n",
    "        data = f.read().split('\\n')\n",
    "    normalize_x = []\n",
    "    normalize_y = []\n",
    "    for idx in range(1,len(data)-1):\n",
    "        d_k = data[idx].replace('(','').replace(')',',').replace('[','').replace(']','')\n",
    "        sp_ka = d_k.split(',')\n",
    "        angl = [] #角度\n",
    "        dist = [] #距離\n",
    "        result = list(split_list(sp_ka,3))\n",
    "        for idx in range(len(result)):\n",
    "            angl.append(float(result[idx][1]))\n",
    "            dist.append(float(result[idx][2]))\n",
    "\n",
    "        points_x = []\n",
    "        points_y = []\n",
    "        for i in range(len(angl)):\n",
    "            x = dist[i] * math.cos(math.radians(angl[i])) \n",
    "            y = math.sqrt(dist[i] ** 2 - x ** 2) \n",
    "            x = x / 10\n",
    "            y = y / 10\n",
    "            if(0 <= float(angl[i]) and float(angl[i]) <= 90):\n",
    "                points_x.append(x)\n",
    "                points_y.append(-y)\n",
    "            elif(90 < float(angl[i]) and float(angl[i]) <= 180):\n",
    "                points_x.append(x)\n",
    "                points_y.append(-y)\n",
    "            elif(180 < float(angl[i]) and float(angl[i]) <= 270):\n",
    "                points_x.append(x)\n",
    "                points_y.append(y)\n",
    "            else:\n",
    "                points_x.append(x)\n",
    "                points_y.append(y)\n",
    "        #ここで座標指定をしてしまうのがベスト？\n",
    "\n",
    "        human_x = []\n",
    "        human_y = []\n",
    "        for point_x,point_y in zip(points_x,points_y):\n",
    "            if xmin <= point_x and point_x <= xmax and ymin <= point_y and point_y <= ymax:\n",
    "                human_x.append(point_x)\n",
    "                human_y.append(point_y)\n",
    "        \n",
    "        max_points_x = max(human_x)\n",
    "        min_points_x = min(human_x)\n",
    "        max_points_y = max(human_y)\n",
    "        min_points_y = min(human_y)\n",
    "\n",
    "        bo_x = max_points_x - min_points_x\n",
    "        bo_y = max_points_y - min_points_y\n",
    "        n_x = []\n",
    "        n_y = []\n",
    "        for h_x in human_x:\n",
    "            n_x.append((h_x - min_points_x) / bo_x)\n",
    "        for h_y in human_y:\n",
    "            n_y.append((h_y - min_points_y) / bo_y)\n",
    "        normalize_x.append(n_x)\n",
    "        normalize_y.append(n_y)\n",
    "    return normalize_x,normalize_y"
   ]
  },
  {
   "cell_type": "code",
   "execution_count": 6,
   "metadata": {},
   "outputs": [],
   "source": [
    "path = r'C:\\Users\\wtana\\Desktop\\LiDAR_cm\\lidar_txt_files\\tree_right_train.txt'\n",
    "x,y = normalize_points(path,xmin=100,xmax=500,ymin=0,ymax=100)"
   ]
  },
  {
   "cell_type": "code",
   "execution_count": 7,
   "metadata": {},
   "outputs": [
    {
     "data": {
      "image/png": "[encoded data removed]",
      "text/plain": [
       "<Figure size 640x480 with 1 Axes>"
      ]
     },
     "metadata": {},
     "output_type": "display_data"
    }
   ],
   "source": [
    "import matplotlib.pyplot as plt\n",
    "plt.plot(x[15],y[15],linestyle='',marker='*')\n",
    "plt.grid('TRUE')\n",
    "#plt.xlim(xmin,xmax)\n",
    "#plt.ylim(ymin,ymax)"
   ]
  },
  {
   "cell_type": "code",
   "execution_count": 9,
   "metadata": {},
   "outputs": [],
   "source": [
    "s = ''\n",
    "for i in range(len(x)):\n",
    "    s = ''\n",
    "    with open('./normalize_txt/tree/'+str(i)+'.txt','a') as f:\n",
    "        for x_,y_ in zip(x[i],y[i]):\n",
    "            s = s + str(x_) + ' ' + str(y_) + ' 95\\n'\n",
    "        f.write(s)\n",
    "\n"
   ]
  },
  {
   "cell_type": "code",
   "execution_count": 9,
   "metadata": {},
   "outputs": [
    {
     "data": {
      "text/plain": [
       "'0.9120298838130259 1.0 95\\n0.9000239267754437 0.9236224442617277 95\\n0.8530375483182776 0.8432134516178998 95\\n0.5897246564520376 0.7588806795274123 95\\n0.39525592077157196 0.6827593365456596 95\\n0.2545384555567279 0.6055014876481026 95\\n0.03672297974033477 0.5315118036697246 95\\n0.0 0.45826613209347034 95\\n0.17286538039110108 0.3896190221509823 95\\n0.41320668414052647 0.31622685727541205 95\\n0.584577070657579 0.2394034603455049 95\\n0.8497559604920741 0.1568736723968907 95\\n0.8737120471348135 0.08029839250171875 95\\n1.0 0.0 95\\n'"
      ]
     },
     "execution_count": 9,
     "metadata": {},
     "output_type": "execute_result"
    }
   ],
   "source": [
    "s"
   ]
  },
  {
   "cell_type": "code",
   "execution_count": 8,
   "metadata": {},
   "outputs": [],
   "source": [
    "from model import *\n",
    "#from sampler import *\n",
    "from self_made import *\n",
    "\n",
    "loss = []\n",
    "Accu = []\n",
    "\n",
    "batch_size = 64\n",
    "num_points = 64\n",
    "num_labels = 1\n",
    "def main_():\n",
    "    pointnet = PointNet(num_points, num_labels)\n",
    "\n",
    "    new_param = pointnet.state_dict()\n",
    "    new_param['main.0.main.6.bias'] = torch.eye(3, 3).view(-1)\n",
    "    new_param['main.3.main.6.bias'] = torch.eye(64, 64).view(-1)\n",
    "    pointnet.load_state_dict(new_param)\n",
    "\n",
    "    criterion = nn.BCELoss()\n",
    "    optimizer = optim.Adam(pointnet.parameters(), lr=0.001)\n",
    "\n",
    "    loss_list = []\n",
    "    accuracy_list = []\n",
    "\n",
    "    for iteration in range(200):\n",
    "\n",
    "        pointnet.zero_grad()\n",
    "        input_data, labels = data_sampler(path_1='./normalize_txt/takuya/150cm/*',path_2='./normalize_txt/tree/*')\n",
    "        #input_data, labels = data_sampler(batch_size, num_points)\n",
    "\n",
    "        output = pointnet(input_data)\n",
    "        output = nn.Sigmoid()(output)\n",
    "\n",
    "        error = criterion(output, labels)\n",
    "        error.backward()\n",
    "\n",
    "        optimizer.step()\n",
    "\n",
    "        with torch.no_grad():\n",
    "            output[output > 0.5] = 1\n",
    "            output[output < 0.5] = 0\n",
    "            accuracy = (output==labels).sum().item()/batch_size\n",
    "\n",
    "        loss_list.append(error.item())\n",
    "        accuracy_list.append(accuracy)\n",
    "        loss.append(float(error.item()))\n",
    "        Accu.append(float(accuracy))\n",
    "        if iteration % 10 == 0:\n",
    "\n",
    "            print('Iteration : {}   Loss : {}'.format(iteration, error.item()))\n",
    "            print('Iteration : {}   Accuracy : {}'.format(iteration, accuracy))\n",
    "            "
   ]
  },
  {
   "cell_type": "code",
   "execution_count": 9,
   "metadata": {},
   "outputs": [
    {
     "name": "stdout",
     "output_type": "stream",
     "text": [
      "Iteration : 0   Loss : 0.9023218154907227\n",
      "Iteration : 0   Accuracy : 0.40625\n",
      "Iteration : 10   Loss : 0.35822656750679016\n",
      "Iteration : 10   Accuracy : 0.984375\n",
      "Iteration : 20   Loss : 0.3260544240474701\n",
      "Iteration : 20   Accuracy : 1.0\n",
      "Iteration : 30   Loss : 0.31632497906684875\n",
      "Iteration : 30   Accuracy : 1.0\n",
      "Iteration : 40   Loss : 0.3135850727558136\n",
      "Iteration : 40   Accuracy : 1.0\n",
      "Iteration : 50   Loss : 0.31059491634368896\n",
      "Iteration : 50   Accuracy : 1.0\n",
      "Iteration : 60   Loss : 0.3036721348762512\n",
      "Iteration : 60   Accuracy : 1.0\n",
      "Iteration : 70   Loss : 0.29945793747901917\n",
      "Iteration : 70   Accuracy : 1.0\n",
      "Iteration : 80   Loss : 0.2960233986377716\n",
      "Iteration : 80   Accuracy : 1.0\n",
      "Iteration : 90   Loss : 0.29402703046798706\n",
      "Iteration : 90   Accuracy : 1.0\n",
      "Iteration : 100   Loss : 0.2919027805328369\n",
      "Iteration : 100   Accuracy : 1.0\n",
      "Iteration : 110   Loss : 0.292294979095459\n",
      "Iteration : 110   Accuracy : 1.0\n",
      "Iteration : 120   Loss : 0.29180315136909485\n",
      "Iteration : 120   Accuracy : 1.0\n",
      "Iteration : 130   Loss : 0.28429386019706726\n",
      "Iteration : 130   Accuracy : 1.0\n",
      "Iteration : 140   Loss : 0.28178465366363525\n",
      "Iteration : 140   Accuracy : 1.0\n",
      "Iteration : 150   Loss : 0.27889084815979004\n",
      "Iteration : 150   Accuracy : 1.0\n",
      "Iteration : 160   Loss : 0.2771802246570587\n",
      "Iteration : 160   Accuracy : 1.0\n",
      "Iteration : 170   Loss : 0.2749137580394745\n",
      "Iteration : 170   Accuracy : 1.0\n",
      "Iteration : 180   Loss : 0.2718317210674286\n",
      "Iteration : 180   Accuracy : 1.0\n",
      "Iteration : 190   Loss : 0.27149736881256104\n",
      "Iteration : 190   Accuracy : 1.0\n"
     ]
    }
   ],
   "source": [
    "main_()"
   ]
  },
  {
   "cell_type": "code",
   "execution_count": 16,
   "metadata": {},
   "outputs": [
    {
     "data": {
      "text/plain": [
       "<matplotlib.legend.Legend at 0x29a946acc10>"
      ]
     },
     "execution_count": 16,
     "metadata": {},
     "output_type": "execute_result"
    },
    {
     "data": {
      "image/png": "[encoded data removed]",
      "text/plain": [
       "<Figure size 640x480 with 1 Axes>"
      ]
     },
     "metadata": {},
     "output_type": "display_data"
    }
   ],
   "source": [
    "import matplotlib.pyplot as plt\n",
    "a_len = len(Accu)\n",
    "x_ = list(range(len(Accu)))\n",
    "plt.plot(x_,Accu,marker='.',label='Accuracy')\n",
    "plt.plot(x_,loss,marker='.',label='loss')\n",
    "plt.legend()"
   ]
  },
  {
   "cell_type": "code",
   "execution_count": null,
   "metadata": {},
   "outputs": [],
   "source": []
  }
 ],
 "metadata": {
  "kernelspec": {
   "display_name": "Python 3.8.12 ('takuya')",
   "language": "python",
   "name": "python3"
  },
  "language_info": {
   "codemirror_mode": {
    "name": "ipython",
    "version": 3
   },
   "file_extension": ".py",
   "mimetype": "text/x-python",
   "name": "python",
   "nbconvert_exporter": "python",
   "pygments_lexer": "ipython3",
   "version": "3.8.13"
  },
  "orig_nbformat": 4,
  "vscode": {
   "interpreter": {
    "hash": "9462753b17c62bb3f4671fb2b3c7a16b22ecb791dac6128873dd2308b51cfa83"
   }
  }
 },
 "nbformat": 4,
 "nbformat_minor": 2
}
